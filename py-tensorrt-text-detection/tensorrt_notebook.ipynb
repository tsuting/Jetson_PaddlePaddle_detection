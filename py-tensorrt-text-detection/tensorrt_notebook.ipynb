{
 "cells": [
  {
   "cell_type": "markdown",
   "id": "a13ae1dd",
   "metadata": {},
   "source": [
    "# ONNX to TensorRT and inference with TensorRT\n",
    "\n",
    "This notebook demonstrates how to convert onnx model to TensorRT engine and then inference\n",
    "with TensorRT engine.\n",
    "\n",
    "We use [PaddlePaddle](https://github.com/PaddlePaddle/PaddleOCR) text detection model for demonstration\n",
    "purpose. If you have any questions regarding the *model* itself, please create an issue in the original\n",
    "paddlepaddle repo.\n",
    "\n",
    "Please make sure you have run `pip install -r requirements.txt` both in this folder and the parent folder\n",
    "to make sure all necessary packages are installed.\n",
    "\n",
    "For installation and environment setup, please refer to [README](README.md)."
   ]
  },
  {
   "cell_type": "markdown",
   "id": "97e8872e",
   "metadata": {},
   "source": [
    "## Step 1: Import Packages"
   ]
  },
  {
   "cell_type": "code",
   "execution_count": null,
   "id": "17eb5b1d",
   "metadata": {
    "lines_to_next_cell": 0,
    "vscode": {
     "languageId": "python"
    }
   },
   "outputs": [],
   "source": [
    "import sys\n",
    "sys.path.append(\"../\")\n",
    "from trt_utils import TRTUtils\n",
    "\n",
    "import cv2\n",
    "from matplotlib import pyplot as plt\n",
    "import numpy as np\n",
    "from model_common import build_pre_process, build_post_process\n",
    "from model_common.utils import viz_pddle_distill_db_results"
   ]
  },
  {
   "cell_type": "markdown",
   "id": "f42462df",
   "metadata": {},
   "source": [
    "## Step 2: Load Test Image\n",
    "\n",
    "- Load test image \n",
    "- Define preprocessing and post-processing steps for the model"
   ]
  },
  {
   "cell_type": "code",
   "execution_count": null,
   "id": "3c497752",
   "metadata": {
    "vscode": {
     "languageId": "python"
    }
   },
   "outputs": [],
   "source": [
    "test_img_path = \"../sample_images/nutrition_label.jpg\"\n",
    "test_img = cv2.imread(test_img_path)\n",
    "pre_process_op = build_pre_process({\"name\": \"td_PaddlePaddlePreProcess\"})\n",
    "test_in, to_postprocess = pre_process_op(raw_img=test_img, dimension=(960,960))"
   ]
  },
  {
   "cell_type": "markdown",
   "id": "8cf79107",
   "metadata": {},
   "source": [
    "## Step 3: Convert (or Load) TensorRT Engine\n",
    "Based on the model and your application, specify the config dictionary in the next cell and then convert ONNX model to tensorRT engine."
   ]
  },
  {
   "cell_type": "code",
   "execution_count": null,
   "id": "f8610c93",
   "metadata": {
    "vscode": {
     "languageId": "python"
    }
   },
   "outputs": [],
   "source": [
    "dynamic_trt_config = {\n",
    "            \"fp16\":True,\n",
    "            \"original_model_path\":  \"../models/ch_PP-OCRv2_det_infer.onnx\",\n",
    "            \"engine_path\":\"../models/ch_PP-OCRv2_det_infer.engine\",\n",
    "            \"dynamic_shape\": True,\n",
    "            \"profile_config\":[\n",
    "                {\"x\" : [(1, 3, 960, 960), (1, 3, 1280, 1280), (1, 3, 1536,1536) ] }\n",
    "            ]\n",
    "        }\n",
    "static_trt_config = {\n",
    "    \"fp16\":True,\n",
    "    \"original_model_path\": \"../models/ch_PP-OCRv2_det_infer.onnx\",\n",
    "    \"engine_path\":\"../models/ch_PP-OCRv2_det_infer_static.engine\",\n",
    "    \"dynamic_shape\": False,\n",
    "    \"profile_config\":[\n",
    "        {\"x\" : [(1, 3, 1088, 1440)] }\n",
    "    ]\n",
    "}\n",
    "trt_utils = TRTUtils(dynamic_trt_config)\n",
    "trt_utils.get_engine()"
   ]
  },
  {
   "cell_type": "markdown",
   "id": "d5cf36a1",
   "metadata": {},
   "source": [
    "## Step 4 Inference and Post-Processing\n",
    "\n",
    "Step 4.1 Inference on the input image"
   ]
  },
  {
   "cell_type": "code",
   "execution_count": null,
   "id": "0c635c5e",
   "metadata": {
    "lines_to_next_cell": 0,
    "vscode": {
     "languageId": "python"
    }
   },
   "outputs": [],
   "source": [
    "output_buffer = trt_utils.inference_single(test_in, profiling=False)\n",
    "# reshape\n",
    "output_shape = list(test_in.shape)\n",
    "output_shape[1] = 1\n",
    "output_shape = [1] + output_shape\n",
    "results = np.reshape(output_buffer[0],output_shape)"
   ]
  },
  {
   "cell_type": "markdown",
   "id": "a9e04663",
   "metadata": {},
   "source": [
    "Step 4.2 Perform Post-processing based on the Model"
   ]
  },
  {
   "cell_type": "code",
   "execution_count": null,
   "id": "a2ba24de",
   "metadata": {
    "vscode": {
     "languageId": "python"
    }
   },
   "outputs": [],
   "source": [
    "postprocess_params = {\n",
    "    \"name\": \"td_PaddlePaddlePostProcess\",\n",
    "    \"thresh\": 0.3,\n",
    "    \"box_thresh\": 0.5,\n",
    "    \"max_candidate\": 1000,\n",
    "    \"unclip_ratio\": 2,\n",
    "    \"use_dilation\": False,\n",
    "    \"score_mode\": \"fast\",\n",
    "}\n",
    "post_process_op = build_post_process(postprocess_params)\n",
    "dt_boxes = post_process_op(results=results, **to_postprocess)"
   ]
  },
  {
   "cell_type": "markdown",
   "id": "cde8649b",
   "metadata": {},
   "source": [
    "## Step 5 (optional) Viz the prediction output"
   ]
  },
  {
   "cell_type": "code",
   "execution_count": null,
   "id": "9633475d",
   "metadata": {
    "vscode": {
     "languageId": "python"
    }
   },
   "outputs": [],
   "source": [
    "viz_img = viz_pddle_distill_db_results(test_img.copy(), dt_boxes=dt_boxes)\n",
    "plt.imshow(cv2.cvtColor(viz_img, cv2.COLOR_BGR2RGB))"
   ]
  },
  {
   "cell_type": "markdown",
   "id": "d58d8a21",
   "metadata": {},
   "source": [
    "clean up the visualization resource"
   ]
  },
  {
   "cell_type": "code",
   "execution_count": null,
   "id": "18b6df70",
   "metadata": {
    "vscode": {
     "languageId": "python"
    }
   },
   "outputs": [],
   "source": [
    "plt.clf()\n",
    "plt.close()"
   ]
  }
 ],
 "metadata": {
  "jupytext": {
   "encoding": "# -*- coding: utf-8 -*-"
  },
  "kernelspec": {
   "display_name": "Python [conda env:tensorrt]",
   "language": "python",
   "name": "conda-env-tensorrt-py"
  }
 },
 "nbformat": 4,
 "nbformat_minor": 5
}
